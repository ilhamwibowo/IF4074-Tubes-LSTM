{
  "nbformat": 4,
  "nbformat_minor": 0,
  "metadata": {
    "colab": {
      "provenance": []
    },
    "kernelspec": {
      "name": "python3",
      "display_name": "Python 3"
    },
    "language_info": {
      "name": "python"
    }
  },
  "cells": [
    {
      "cell_type": "code",
      "source": [
        "!wget -O \"Train_stock_market.csv\" \"https://drive.usercontent.google.com/download?id=10QDNJURvLEBdTpc2r-ZuiHoCYzUsWBXU&export=download&confirm=t&uuid=980e8d75-95a1-466b-a95e-323a4f3d2224&at=APZUnTUOJyMDJkE7IC6Ec6Qi8alO:1699016695121\"\n",
        "!wget -O \"model_4_parameters.json\" \"https://drive.google.com/uc?id=1hanZpmLnYFJgVcTNnQskLv2bnatJXKzH&export=download\""
      ],
      "metadata": {
        "colab": {
          "base_uri": "https://localhost:8080/"
        },
        "id": "GbpMlvcYR531",
        "outputId": "eaaa3d87-b401-4fe4-9d1a-7be30b8fd496"
      },
      "execution_count": null,
      "outputs": [
        {
          "output_type": "stream",
          "name": "stdout",
          "text": [
            "--2023-11-03 13:11:52--  https://drive.usercontent.google.com/download?id=10QDNJURvLEBdTpc2r-ZuiHoCYzUsWBXU&export=download&confirm=t&uuid=980e8d75-95a1-466b-a95e-323a4f3d2224&at=APZUnTUOJyMDJkE7IC6Ec6Qi8alO:1699016695121\n",
            "Resolving drive.usercontent.google.com (drive.usercontent.google.com)... 142.251.2.132, 2607:f8b0:4023:c0d::84\n",
            "Connecting to drive.usercontent.google.com (drive.usercontent.google.com)|142.251.2.132|:443... connected.\n",
            "HTTP request sent, awaiting response... 200 OK\n",
            "Length: 761691 (744K) [application/octet-stream]\n",
            "Saving to: ‘Train_stock_market.csv’\n",
            "\n",
            "Train_stock_market. 100%[===================>] 743.84K  --.-KB/s    in 0.1s    \n",
            "\n",
            "2023-11-03 13:11:53 (6.01 MB/s) - ‘Train_stock_market.csv’ saved [761691/761691]\n",
            "\n",
            "--2023-11-03 13:11:53--  https://drive.google.com/uc?id=1hanZpmLnYFJgVcTNnQskLv2bnatJXKzH&export=download\n",
            "Resolving drive.google.com (drive.google.com)... 142.251.2.101, 142.251.2.138, 142.251.2.100, ...\n",
            "Connecting to drive.google.com (drive.google.com)|142.251.2.101|:443... connected.\n",
            "HTTP request sent, awaiting response... 303 See Other\n",
            "Location: https://doc-0c-ak-docs.googleusercontent.com/docs/securesc/ha0ro937gcuc7l7deffksulhg5h7mbp1/g6kgfk17qfd01q16mlpspjk8p0cv5vag/1699017075000/06521322467180524979/*/1hanZpmLnYFJgVcTNnQskLv2bnatJXKzH?e=download&uuid=c0b75564-085e-4d08-8287-399e1964a6be [following]\n",
            "Warning: wildcards not supported in HTTP.\n",
            "--2023-11-03 13:11:53--  https://doc-0c-ak-docs.googleusercontent.com/docs/securesc/ha0ro937gcuc7l7deffksulhg5h7mbp1/g6kgfk17qfd01q16mlpspjk8p0cv5vag/1699017075000/06521322467180524979/*/1hanZpmLnYFJgVcTNnQskLv2bnatJXKzH?e=download&uuid=c0b75564-085e-4d08-8287-399e1964a6be\n",
            "Resolving doc-0c-ak-docs.googleusercontent.com (doc-0c-ak-docs.googleusercontent.com)... 142.250.101.132, 2607:f8b0:4023:c06::84\n",
            "Connecting to doc-0c-ak-docs.googleusercontent.com (doc-0c-ak-docs.googleusercontent.com)|142.250.101.132|:443... connected.\n",
            "HTTP request sent, awaiting response... 200 OK\n",
            "Length: 773811 (756K) [application/json]\n",
            "Saving to: ‘model_4_parameters.json’\n",
            "\n",
            "model_4_parameters. 100%[===================>] 755.67K  --.-KB/s    in 0.1s    \n",
            "\n",
            "2023-11-03 13:11:54 (6.08 MB/s) - ‘model_4_parameters.json’ saved [773811/773811]\n",
            "\n"
          ]
        }
      ]
    },
    {
      "cell_type": "markdown",
      "source": [],
      "metadata": {
        "id": "GnCwN0QJR5v4"
      }
    },
    {
      "cell_type": "markdown",
      "source": [
        "# LESTEM"
      ],
      "metadata": {
        "id": "iFoxT92JS6hA"
      }
    },
    {
      "cell_type": "code",
      "execution_count": null,
      "metadata": {
        "id": "d7EpGCMOSOgI"
      },
      "outputs": [],
      "source": [
        "import numpy as np\n",
        "import json\n",
        "\n",
        "def linear(x):\n",
        "  return x\n",
        "def relu(x):\n",
        "    return np.maximum(0, x)\n",
        "def sigmoid(x):\n",
        "  return 1 / (1 + np.exp(-x))\n",
        "def tanh(x):\n",
        "  return np.tanh(x)\n"
      ]
    },
    {
      "cell_type": "code",
      "source": [
        "tanh(0.1)"
      ],
      "metadata": {
        "id": "ast003vyS6zz",
        "colab": {
          "base_uri": "https://localhost:8080/"
        },
        "outputId": "f3241b23-1347-4e9d-f92a-3a48f7d217da"
      },
      "execution_count": null,
      "outputs": [
        {
          "output_type": "execute_result",
          "data": {
            "text/plain": [
              "0.09966799462495582"
            ]
          },
          "metadata": {},
          "execution_count": 3
        }
      ]
    },
    {
      "cell_type": "code",
      "source": [
        "def times(a : list[float], b: list[float]) -> float:\n",
        "  #kali 1 1 elemen list dan menjumlahkannya\n",
        "  if (len(a) != len(b)):\n",
        "    raise Exception(\"A and B must be the same length\")\n",
        "  sum = 0.0\n",
        "  for i in range(len(a)):\n",
        "    sum += a[i] * b[i]\n",
        "  return sum\n",
        "def isEmpty(a : list) -> bool:\n",
        "  return len(a) == 0"
      ],
      "metadata": {
        "id": "DsvS4AQjgiGl"
      },
      "execution_count": null,
      "outputs": []
    },
    {
      "cell_type": "code",
      "source": [
        "!pip install nptyping\n",
        "from nptyping import NDArray, Shape, Float\n",
        "#for typehints"
      ],
      "metadata": {
        "colab": {
          "base_uri": "https://localhost:8080/"
        },
        "id": "RqGv_PJVmCPG",
        "outputId": "24fc7bbb-cf51-4372-96d0-10df5cb00561"
      },
      "execution_count": null,
      "outputs": [
        {
          "output_type": "stream",
          "name": "stdout",
          "text": [
            "Collecting nptyping\n",
            "  Downloading nptyping-2.5.0-py3-none-any.whl (37 kB)\n",
            "Requirement already satisfied: numpy<2.0.0,>=1.20.0 in /usr/local/lib/python3.10/dist-packages (from nptyping) (1.23.5)\n",
            "Installing collected packages: nptyping\n",
            "Successfully installed nptyping-2.5.0\n"
          ]
        }
      ]
    },
    {
      "cell_type": "code",
      "source": [
        "class Cell:\n",
        "  def __init__(self, num_unit: int, num_features: int, U : NDArray[Shape[\"4, *\"], Float] = [], W : NDArray[Shape[\"4, *\"], Float] = [], B: NDArray[Shape[\"4\"], Float] = []):\n",
        "    self.num_unit = num_unit\n",
        "    self.num_features = num_features\n",
        "    self.forget = 0.0\n",
        "    self.state = 0.0\n",
        "    self.input = 0.0\n",
        "    self.output = 0.0\n",
        "    self.candidate = 0.0\n",
        "    self.hidden = 0.0\n",
        "    if isEmpty(U):\n",
        "      # self.U = np.zeros((4, num_features), dtype=np.dtype(float))\n",
        "      self.U = np.random.rand(4,num_features)\n",
        "    else:\n",
        "      self.loadU(U)\n",
        "    if isEmpty(W):\n",
        "      # self.W = np.zeros((4, num_unit), dtype=np.dtype(float))\n",
        "      self.W = np.random.rand(4,num_unit)\n",
        "    else:\n",
        "      self.loadW(W)\n",
        "    if isEmpty(B):\n",
        "      # self.B = np.zeros((4), dtype=np.dtype(float))\n",
        "      self.B = np.random.rand(4)\n",
        "    else:\n",
        "      self.loadB(B)\n",
        "    # 0 = i, 1 = f, 2 = c, 3 = O\n",
        "\n",
        "  def loadU(self, U : NDArray[Shape[\"4, *\"], Float]):\n",
        "    m, n = U.shape\n",
        "    if m != 4 or n != self.num_features:\n",
        "      raise Exception(\"Size U must be 4 x num_features\")\n",
        "    self.U = U\n",
        "  def loadW(self,  W : NDArray[Shape[\"4, *\"], Float]):\n",
        "    m, n = W.shape\n",
        "    if m != 4 or n != self.num_unit:\n",
        "      raise Exception(\"Size W must be 4 x num_unit\")\n",
        "    self.W = W\n",
        "  def loadB(self, B: NDArray[Shape[\"4\"], Float]):\n",
        "    m = B.shape\n",
        "    if m[0] != 4:\n",
        "      raise Exception(\"Size B must be 4\")\n",
        "    self.B = B\n",
        "\n",
        "  def forward(self, input, prevHidden : NDArray[Shape[\"4, *\"], Float] = [], prevCell = 0.0):\n",
        "    self.forget = self.calculateGates(input, prevHidden, 1)\n",
        "    self.input = self.calculateGates(input, prevHidden, 0)\n",
        "    self.output = self.calculateGates(input, prevHidden, 3)\n",
        "    self.candidate = self.calculateGates(input, prevHidden, 2)\n",
        "    self.state = self.forget * prevCell + self.input * self.candidate\n",
        "    self.hidden = self.output * tanh(self.state)\n",
        "    return self.hidden, self.state\n",
        "  def calculateGates(self, input, prevHidden, mode: int):\n",
        "    #prev hidden harusnya size num_unit, sama dengan W[mode]\n",
        "    # 0 = i, 1 = f, 2 = c, 3 = O\n",
        "\n",
        "    net = times(input,  self.U[mode])\n",
        "    if not isEmpty(prevHidden):\n",
        "      net += times(prevHidden , self.W[mode])\n",
        "    net += self.B[mode]\n",
        "    if (mode != 2):\n",
        "      return sigmoid(net)\n",
        "    else:\n",
        "      return tanh(net)\n",
        "\n",
        "  def countParams(self):\n",
        "    return (self.U.size + self.W.size + self.B.size)\n",
        "\n",
        "  def config(self):\n",
        "      return {\n",
        "          'num_unit': self.num_unit,\n",
        "          'num_features': self.num_features,\n",
        "          'U': self.U.tolist(),\n",
        "          'W': self.W.tolist(),\n",
        "          'B': self.B.tolist()\n",
        "      }"
      ],
      "metadata": {
        "id": "kOTUm3PRVTLj"
      },
      "execution_count": null,
      "outputs": []
    },
    {
      "cell_type": "code",
      "source": [
        "class LSTM:\n",
        "  def __init__(self, cellSize : int, inputSize : tuple [int, int], cells=None, cells_init=None):\n",
        "    self.cellSize = cellSize\n",
        "    self.inputSize = inputSize\n",
        "    self.cells : list[Cell] = []\n",
        "    self.outputs : list[float] = [0 for i in range(cellSize)]\n",
        "    if cells_init:\n",
        "      self.cells = cells_init\n",
        "    elif cells :\n",
        "      self.cells = [Cell(np.array(cell[\"num_unit\"]), np.array(cell[\"num_features\"]), np.array(cell[\"U\"]), np.array(cell[\"W\"]), np.array(cell[\"B\"])) for cell in cells]\n",
        "    else :\n",
        "      self.cells = [Cell(self.cellSize, inputSize[1]) for _ in range(cellSize)]\n",
        "\n",
        "  def forward(self,input):\n",
        "    print(input.shape, self.inputSize)\n",
        "    if (input.shape != self.inputSize):\n",
        "      raise Exception( \"Input shape must be equal to configurated inputSize!\")\n",
        "    hiddens = np.zeros((len(input), self.cellSize), dtype=np.dtype(float))\n",
        "    states = np.zeros((len(input), self.cellSize), dtype=np.dtype(float))\n",
        "    output = np.zeros((self.cellSize), dtype=np.dtype(float))\n",
        "    for idxS, step in enumerate(input):\n",
        "      for idxC, cell in enumerate(self.cells):\n",
        "        if (idxS == 0):\n",
        "          hidden, state = cell.forward(step)\n",
        "        else:\n",
        "          hidden, state = cell.forward(step, hiddens[idxS - 1, :], states[idxS - 1, idxC])\n",
        "        hiddens[idxS, idxC] = hidden\n",
        "        states[idxS, idxC] = state\n",
        "    for idx, cell in enumerate(self.cells):\n",
        "      output[idx] = cell.hidden\n",
        "    return output\n",
        "\n",
        "  def countParams(self):\n",
        "      totalParams = 0\n",
        "      for cell in self.cells:\n",
        "          totalParams += cell.countParams()\n",
        "      return totalParams\n",
        "\n",
        "  def config(self):\n",
        "      return {\n",
        "          'cellSize': self.cellSize,\n",
        "          'inputSize': self.inputSize,\n",
        "          'cells': [cell.config() for cell in self.cells]\n",
        "      }"
      ],
      "metadata": {
        "id": "ubnbQc4ETgAs"
      },
      "execution_count": null,
      "outputs": []
    },
    {
      "cell_type": "code",
      "source": [
        "class Dense:\n",
        "    def __init__(self, nb_units, activation_function='linear', weights=None, biases=None):\n",
        "        self.nb_units = nb_units\n",
        "        self.nb_input_unit = None\n",
        "        self.activation_function = activation_function\n",
        "        self.weights = weights\n",
        "        self.biases = biases\n",
        "\n",
        "    def forward(self, input):\n",
        "        dense_output = np.dot(input, self.weights) + self.biases\n",
        "        if self.activation_function == 'relu':\n",
        "            activation_output = relu(dense_output)\n",
        "        elif self.activation_function == 'sigmoid':\n",
        "            activation_output = sigmoid(dense_output)\n",
        "        elif self.activation_function == 'linear':\n",
        "            activation_output = linear(dense_output)\n",
        "\n",
        "        return activation_output\n",
        "\n",
        "    def setNbInputUnit(self, nb_input_unit):\n",
        "      self.nb_input_unit = nb_input_unit\n",
        "\n",
        "    def setWeights(self, input):\n",
        "      self.weights = np.random.randn(input, self.nb_units)\n",
        "\n",
        "    def setBiases(self):\n",
        "      self.biases = np.random.randn(self.nb_units)\n",
        "\n",
        "    def countParams(self):\n",
        "      return (self.nb_input_unit + 1) * self.nb_units\n",
        "\n",
        "    def config(self):\n",
        "      return {\n",
        "          'nb_units': self.nb_units,\n",
        "          'activation_function': self.activation_function,\n",
        "          'weights': self.weights.tolist(),\n",
        "          'biases': self.biases.tolist()\n",
        "      }"
      ],
      "metadata": {
        "id": "80UxJiBp_arQ"
      },
      "execution_count": null,
      "outputs": []
    },
    {
      "cell_type": "code",
      "source": [
        "class Sequential:\n",
        "    def __init__(self):\n",
        "        self.layers = []\n",
        "\n",
        "    def add(self, layer):\n",
        "        if isinstance(layer, Dense):\n",
        "          if isinstance(self.layers[-1], LSTM):\n",
        "            layer.setNbInputUnit(self.layers[-1].cellSize)\n",
        "            layer.setWeights(self.layers[-1].cellSize)\n",
        "            layer.setBiases()\n",
        "          else:\n",
        "            layer.setNbInputUnit(self.layers[-1].nb_units)\n",
        "            layer.setWeights(self.layers[-1].nb_units)\n",
        "            layer.setBiases()\n",
        "        self.layers.append(layer)\n",
        "\n",
        "    def forward(self, x):\n",
        "        for layer in self.layers:\n",
        "            x = layer.forward(x)\n",
        "        return x\n",
        "\n",
        "    def predict(self, x):\n",
        "        predictions = []\n",
        "        for input_data in x:\n",
        "            output = self.forward(input_data)\n",
        "            predictions.append(output)\n",
        "        return np.array(predictions)\n",
        "\n",
        "    def summary(self):\n",
        "        totalParams = 0\n",
        "        for i, layer in enumerate(self.layers):\n",
        "            layerName = layer.__class__.__name__\n",
        "            params = layer.countParams()\n",
        "            totalParams += params\n",
        "            print(f\"Layer {i + 1}: {layerName} | Parameters: {params}\")\n",
        "\n",
        "        print(f\"Total trainable parameters: {totalParams}\")\n",
        "\n",
        "    def countParams(self):\n",
        "        totalParams = 0\n",
        "        for layer in self.layers:\n",
        "            totalParams += layer.countParams()\n",
        "        return totalParams\n",
        "\n",
        "    def save(self, filename):\n",
        "        modelConfig = []\n",
        "        for layer in self.layers:\n",
        "            layerConfig = {\n",
        "                'type': layer.__class__.__name__,\n",
        "                'params': layer.config()\n",
        "            }\n",
        "            modelConfig.append(layerConfig)\n",
        "\n",
        "        with open(filename, 'w') as jsonFile:\n",
        "            json.dump(modelConfig, jsonFile)\n",
        "\n",
        "    def load(self, filename):\n",
        "        with open(filename, 'r') as jsonFile:\n",
        "            modelConfig = json.load(jsonFile)\n",
        "\n",
        "        loadedModel = Sequential()\n",
        "        for layerConfig in modelConfig:\n",
        "            layerType = layerConfig['type']\n",
        "            layerParams = layerConfig['params']\n",
        "\n",
        "            if layerType == 'LSTM':\n",
        "                layer = LSTM(**layerParams)\n",
        "            elif layerType == 'Dense':\n",
        "                layer = Dense(**layerParams)\n",
        "            else:\n",
        "                raise ValueError(f\"Unsupported layer type: {layerType}\")\n",
        "\n",
        "            loadedModel.add(layer)\n",
        "\n",
        "        return loadedModel\n",
        "\n",
        "    def loadAsisten(self, filename, window_size):\n",
        "        with open(filename, 'r') as jsonFile:\n",
        "            modelConfig = json.load(jsonFile)\n",
        "\n",
        "        loadedModel = Sequential()\n",
        "        for layerConfig in modelConfig:\n",
        "            layerType = layerConfig['type']\n",
        "            layerParams = layerConfig['params']\n",
        "\n",
        "            if layerType == 'lstm':\n",
        "                cells_init = [];\n",
        "                num_cells = len(layerParams[\"W_i\"][0])\n",
        "                num_feat = len(layerParams[\"W_i\"])\n",
        "                # w = num_feat x num_unit\n",
        "                # u = num_unit x num_unit\n",
        "                # b = num_unit\n",
        "                for i in range(num_cells):\n",
        "                  w_i = np.transpose(layerParams[\"W_i\"])[i]\n",
        "                  w_f = np.transpose(layerParams[\"W_f\"])[i]\n",
        "                  w_c = np.transpose(layerParams[\"W_c\"])[i]\n",
        "                  w_o = np.transpose(layerParams[\"W_o\"])[i]\n",
        "\n",
        "                  u = np.array([w_i, w_f, w_c, w_o])\n",
        "                  w = np.array([layerParams[\"U_i\"][i], layerParams[\"U_f\"][i], layerParams[\"U_c\"][i], layerParams[\"U_o\"][i]])\n",
        "                  b = np.array([layerParams[\"b_i\"][i], layerParams[\"b_f\"][i], layerParams[\"b_c\"][i], layerParams[\"b_o\"][i]])\n",
        "\n",
        "                  cells_init.append(Cell(num_cells, num_feat, u, w, b))\n",
        "                layer = LSTM(num_cells, (window_size, num_feat), cells_init=cells_init)\n",
        "\n",
        "            elif layerType == 'dense':\n",
        "                nb_unit = len(layerParams[\"bias\"])\n",
        "                layer = Dense(nb_unit, 'linear', layerParams[\"kernel\"], layerParams[\"bias\"])\n",
        "            else:\n",
        "                raise ValueError(f\"Unsupported layer type: {layerType}\")\n",
        "\n",
        "            loadedModel.add(layer)\n",
        "\n",
        "        return loadedModel"
      ],
      "metadata": {
        "id": "pZ20iRs3at05"
      },
      "execution_count": null,
      "outputs": []
    },
    {
      "cell_type": "code",
      "source": [
        "def create_sequences(data, seq_length):\n",
        "    sequences = []\n",
        "    targets = []\n",
        "    data_len = len(data)\n",
        "    for i in range(data_len - seq_length):\n",
        "        seq_end = i + seq_length\n",
        "        seq_x = data[i:seq_end]\n",
        "        seq_y = data[seq_end]\n",
        "        sequences.append(seq_x)\n",
        "        targets.append(seq_y)\n",
        "    return np.array(sequences), np.array(targets)"
      ],
      "metadata": {
        "id": "ytxwCWyaS40M"
      },
      "execution_count": null,
      "outputs": []
    },
    {
      "cell_type": "markdown",
      "source": [
        "# Load Data"
      ],
      "metadata": {
        "id": "E5XGPrf5J-UU"
      }
    },
    {
      "cell_type": "code",
      "source": [
        "import pandas as pd\n",
        "\n",
        "df = pd.read_csv(\"/content/Train_stock_market.csv\")\n",
        "df"
      ],
      "metadata": {
        "colab": {
          "base_uri": "https://localhost:8080/",
          "height": 423
        },
        "id": "yoS-Qa4It7t1",
        "outputId": "c490a735-7dc1-4a47-f164-a207a0e5fda7"
      },
      "execution_count": null,
      "outputs": [
        {
          "output_type": "execute_result",
          "data": {
            "text/plain": [
              "            Date   Low   Open  Volume  High  Close  Adjusted Close\n",
              "0     07-09-1984  5.25  5.500    7900  5.50   5.25            5.25\n",
              "1     10-09-1984  5.25  5.250     600  5.50   5.25            5.25\n",
              "2     11-09-1984  5.25  5.250    3500  5.50   5.25            5.25\n",
              "3     12-09-1984  5.50  5.500     700  5.50   5.50            5.50\n",
              "4     13-09-1984  5.00  5.500    1700  5.50   5.00            5.00\n",
              "...          ...   ...    ...     ...   ...    ...             ...\n",
              "9640  06-12-2022  3.76  3.800   22400  3.99   3.81            3.81\n",
              "9641  07-12-2022  3.68  3.750   18000  3.85   3.74            3.74\n",
              "9642  08-12-2022  3.80  3.820   51600  4.00   3.85            3.85\n",
              "9643  09-12-2022  3.85  3.930    7800  3.93   3.88            3.88\n",
              "9644  12-12-2022  3.85  3.874   11489  3.88   3.85            3.85\n",
              "\n",
              "[9645 rows x 7 columns]"
            ],
            "text/html": [
              "\n",
              "  <div id=\"df-b6c9104e-3146-4794-930c-d610c0955472\" class=\"colab-df-container\">\n",
              "    <div>\n",
              "<style scoped>\n",
              "    .dataframe tbody tr th:only-of-type {\n",
              "        vertical-align: middle;\n",
              "    }\n",
              "\n",
              "    .dataframe tbody tr th {\n",
              "        vertical-align: top;\n",
              "    }\n",
              "\n",
              "    .dataframe thead th {\n",
              "        text-align: right;\n",
              "    }\n",
              "</style>\n",
              "<table border=\"1\" class=\"dataframe\">\n",
              "  <thead>\n",
              "    <tr style=\"text-align: right;\">\n",
              "      <th></th>\n",
              "      <th>Date</th>\n",
              "      <th>Low</th>\n",
              "      <th>Open</th>\n",
              "      <th>Volume</th>\n",
              "      <th>High</th>\n",
              "      <th>Close</th>\n",
              "      <th>Adjusted Close</th>\n",
              "    </tr>\n",
              "  </thead>\n",
              "  <tbody>\n",
              "    <tr>\n",
              "      <th>0</th>\n",
              "      <td>07-09-1984</td>\n",
              "      <td>5.25</td>\n",
              "      <td>5.500</td>\n",
              "      <td>7900</td>\n",
              "      <td>5.50</td>\n",
              "      <td>5.25</td>\n",
              "      <td>5.25</td>\n",
              "    </tr>\n",
              "    <tr>\n",
              "      <th>1</th>\n",
              "      <td>10-09-1984</td>\n",
              "      <td>5.25</td>\n",
              "      <td>5.250</td>\n",
              "      <td>600</td>\n",
              "      <td>5.50</td>\n",
              "      <td>5.25</td>\n",
              "      <td>5.25</td>\n",
              "    </tr>\n",
              "    <tr>\n",
              "      <th>2</th>\n",
              "      <td>11-09-1984</td>\n",
              "      <td>5.25</td>\n",
              "      <td>5.250</td>\n",
              "      <td>3500</td>\n",
              "      <td>5.50</td>\n",
              "      <td>5.25</td>\n",
              "      <td>5.25</td>\n",
              "    </tr>\n",
              "    <tr>\n",
              "      <th>3</th>\n",
              "      <td>12-09-1984</td>\n",
              "      <td>5.50</td>\n",
              "      <td>5.500</td>\n",
              "      <td>700</td>\n",
              "      <td>5.50</td>\n",
              "      <td>5.50</td>\n",
              "      <td>5.50</td>\n",
              "    </tr>\n",
              "    <tr>\n",
              "      <th>4</th>\n",
              "      <td>13-09-1984</td>\n",
              "      <td>5.00</td>\n",
              "      <td>5.500</td>\n",
              "      <td>1700</td>\n",
              "      <td>5.50</td>\n",
              "      <td>5.00</td>\n",
              "      <td>5.00</td>\n",
              "    </tr>\n",
              "    <tr>\n",
              "      <th>...</th>\n",
              "      <td>...</td>\n",
              "      <td>...</td>\n",
              "      <td>...</td>\n",
              "      <td>...</td>\n",
              "      <td>...</td>\n",
              "      <td>...</td>\n",
              "      <td>...</td>\n",
              "    </tr>\n",
              "    <tr>\n",
              "      <th>9640</th>\n",
              "      <td>06-12-2022</td>\n",
              "      <td>3.76</td>\n",
              "      <td>3.800</td>\n",
              "      <td>22400</td>\n",
              "      <td>3.99</td>\n",
              "      <td>3.81</td>\n",
              "      <td>3.81</td>\n",
              "    </tr>\n",
              "    <tr>\n",
              "      <th>9641</th>\n",
              "      <td>07-12-2022</td>\n",
              "      <td>3.68</td>\n",
              "      <td>3.750</td>\n",
              "      <td>18000</td>\n",
              "      <td>3.85</td>\n",
              "      <td>3.74</td>\n",
              "      <td>3.74</td>\n",
              "    </tr>\n",
              "    <tr>\n",
              "      <th>9642</th>\n",
              "      <td>08-12-2022</td>\n",
              "      <td>3.80</td>\n",
              "      <td>3.820</td>\n",
              "      <td>51600</td>\n",
              "      <td>4.00</td>\n",
              "      <td>3.85</td>\n",
              "      <td>3.85</td>\n",
              "    </tr>\n",
              "    <tr>\n",
              "      <th>9643</th>\n",
              "      <td>09-12-2022</td>\n",
              "      <td>3.85</td>\n",
              "      <td>3.930</td>\n",
              "      <td>7800</td>\n",
              "      <td>3.93</td>\n",
              "      <td>3.88</td>\n",
              "      <td>3.88</td>\n",
              "    </tr>\n",
              "    <tr>\n",
              "      <th>9644</th>\n",
              "      <td>12-12-2022</td>\n",
              "      <td>3.85</td>\n",
              "      <td>3.874</td>\n",
              "      <td>11489</td>\n",
              "      <td>3.88</td>\n",
              "      <td>3.85</td>\n",
              "      <td>3.85</td>\n",
              "    </tr>\n",
              "  </tbody>\n",
              "</table>\n",
              "<p>9645 rows × 7 columns</p>\n",
              "</div>\n",
              "    <div class=\"colab-df-buttons\">\n",
              "\n",
              "  <div class=\"colab-df-container\">\n",
              "    <button class=\"colab-df-convert\" onclick=\"convertToInteractive('df-b6c9104e-3146-4794-930c-d610c0955472')\"\n",
              "            title=\"Convert this dataframe to an interactive table.\"\n",
              "            style=\"display:none;\">\n",
              "\n",
              "  <svg xmlns=\"http://www.w3.org/2000/svg\" height=\"24px\" viewBox=\"0 -960 960 960\">\n",
              "    <path d=\"M120-120v-720h720v720H120Zm60-500h600v-160H180v160Zm220 220h160v-160H400v160Zm0 220h160v-160H400v160ZM180-400h160v-160H180v160Zm440 0h160v-160H620v160ZM180-180h160v-160H180v160Zm440 0h160v-160H620v160Z\"/>\n",
              "  </svg>\n",
              "    </button>\n",
              "\n",
              "  <style>\n",
              "    .colab-df-container {\n",
              "      display:flex;\n",
              "      gap: 12px;\n",
              "    }\n",
              "\n",
              "    .colab-df-convert {\n",
              "      background-color: #E8F0FE;\n",
              "      border: none;\n",
              "      border-radius: 50%;\n",
              "      cursor: pointer;\n",
              "      display: none;\n",
              "      fill: #1967D2;\n",
              "      height: 32px;\n",
              "      padding: 0 0 0 0;\n",
              "      width: 32px;\n",
              "    }\n",
              "\n",
              "    .colab-df-convert:hover {\n",
              "      background-color: #E2EBFA;\n",
              "      box-shadow: 0px 1px 2px rgba(60, 64, 67, 0.3), 0px 1px 3px 1px rgba(60, 64, 67, 0.15);\n",
              "      fill: #174EA6;\n",
              "    }\n",
              "\n",
              "    .colab-df-buttons div {\n",
              "      margin-bottom: 4px;\n",
              "    }\n",
              "\n",
              "    [theme=dark] .colab-df-convert {\n",
              "      background-color: #3B4455;\n",
              "      fill: #D2E3FC;\n",
              "    }\n",
              "\n",
              "    [theme=dark] .colab-df-convert:hover {\n",
              "      background-color: #434B5C;\n",
              "      box-shadow: 0px 1px 3px 1px rgba(0, 0, 0, 0.15);\n",
              "      filter: drop-shadow(0px 1px 2px rgba(0, 0, 0, 0.3));\n",
              "      fill: #FFFFFF;\n",
              "    }\n",
              "  </style>\n",
              "\n",
              "    <script>\n",
              "      const buttonEl =\n",
              "        document.querySelector('#df-b6c9104e-3146-4794-930c-d610c0955472 button.colab-df-convert');\n",
              "      buttonEl.style.display =\n",
              "        google.colab.kernel.accessAllowed ? 'block' : 'none';\n",
              "\n",
              "      async function convertToInteractive(key) {\n",
              "        const element = document.querySelector('#df-b6c9104e-3146-4794-930c-d610c0955472');\n",
              "        const dataTable =\n",
              "          await google.colab.kernel.invokeFunction('convertToInteractive',\n",
              "                                                    [key], {});\n",
              "        if (!dataTable) return;\n",
              "\n",
              "        const docLinkHtml = 'Like what you see? Visit the ' +\n",
              "          '<a target=\"_blank\" href=https://colab.research.google.com/notebooks/data_table.ipynb>data table notebook</a>'\n",
              "          + ' to learn more about interactive tables.';\n",
              "        element.innerHTML = '';\n",
              "        dataTable['output_type'] = 'display_data';\n",
              "        await google.colab.output.renderOutput(dataTable, element);\n",
              "        const docLink = document.createElement('div');\n",
              "        docLink.innerHTML = docLinkHtml;\n",
              "        element.appendChild(docLink);\n",
              "      }\n",
              "    </script>\n",
              "  </div>\n",
              "\n",
              "\n",
              "<div id=\"df-3e97aa3b-befc-4249-9211-0fae4b683390\">\n",
              "  <button class=\"colab-df-quickchart\" onclick=\"quickchart('df-3e97aa3b-befc-4249-9211-0fae4b683390')\"\n",
              "            title=\"Suggest charts.\"\n",
              "            style=\"display:none;\">\n",
              "\n",
              "<svg xmlns=\"http://www.w3.org/2000/svg\" height=\"24px\"viewBox=\"0 0 24 24\"\n",
              "     width=\"24px\">\n",
              "    <g>\n",
              "        <path d=\"M19 3H5c-1.1 0-2 .9-2 2v14c0 1.1.9 2 2 2h14c1.1 0 2-.9 2-2V5c0-1.1-.9-2-2-2zM9 17H7v-7h2v7zm4 0h-2V7h2v10zm4 0h-2v-4h2v4z\"/>\n",
              "    </g>\n",
              "</svg>\n",
              "  </button>\n",
              "\n",
              "<style>\n",
              "  .colab-df-quickchart {\n",
              "      --bg-color: #E8F0FE;\n",
              "      --fill-color: #1967D2;\n",
              "      --hover-bg-color: #E2EBFA;\n",
              "      --hover-fill-color: #174EA6;\n",
              "      --disabled-fill-color: #AAA;\n",
              "      --disabled-bg-color: #DDD;\n",
              "  }\n",
              "\n",
              "  [theme=dark] .colab-df-quickchart {\n",
              "      --bg-color: #3B4455;\n",
              "      --fill-color: #D2E3FC;\n",
              "      --hover-bg-color: #434B5C;\n",
              "      --hover-fill-color: #FFFFFF;\n",
              "      --disabled-bg-color: #3B4455;\n",
              "      --disabled-fill-color: #666;\n",
              "  }\n",
              "\n",
              "  .colab-df-quickchart {\n",
              "    background-color: var(--bg-color);\n",
              "    border: none;\n",
              "    border-radius: 50%;\n",
              "    cursor: pointer;\n",
              "    display: none;\n",
              "    fill: var(--fill-color);\n",
              "    height: 32px;\n",
              "    padding: 0;\n",
              "    width: 32px;\n",
              "  }\n",
              "\n",
              "  .colab-df-quickchart:hover {\n",
              "    background-color: var(--hover-bg-color);\n",
              "    box-shadow: 0 1px 2px rgba(60, 64, 67, 0.3), 0 1px 3px 1px rgba(60, 64, 67, 0.15);\n",
              "    fill: var(--button-hover-fill-color);\n",
              "  }\n",
              "\n",
              "  .colab-df-quickchart-complete:disabled,\n",
              "  .colab-df-quickchart-complete:disabled:hover {\n",
              "    background-color: var(--disabled-bg-color);\n",
              "    fill: var(--disabled-fill-color);\n",
              "    box-shadow: none;\n",
              "  }\n",
              "\n",
              "  .colab-df-spinner {\n",
              "    border: 2px solid var(--fill-color);\n",
              "    border-color: transparent;\n",
              "    border-bottom-color: var(--fill-color);\n",
              "    animation:\n",
              "      spin 1s steps(1) infinite;\n",
              "  }\n",
              "\n",
              "  @keyframes spin {\n",
              "    0% {\n",
              "      border-color: transparent;\n",
              "      border-bottom-color: var(--fill-color);\n",
              "      border-left-color: var(--fill-color);\n",
              "    }\n",
              "    20% {\n",
              "      border-color: transparent;\n",
              "      border-left-color: var(--fill-color);\n",
              "      border-top-color: var(--fill-color);\n",
              "    }\n",
              "    30% {\n",
              "      border-color: transparent;\n",
              "      border-left-color: var(--fill-color);\n",
              "      border-top-color: var(--fill-color);\n",
              "      border-right-color: var(--fill-color);\n",
              "    }\n",
              "    40% {\n",
              "      border-color: transparent;\n",
              "      border-right-color: var(--fill-color);\n",
              "      border-top-color: var(--fill-color);\n",
              "    }\n",
              "    60% {\n",
              "      border-color: transparent;\n",
              "      border-right-color: var(--fill-color);\n",
              "    }\n",
              "    80% {\n",
              "      border-color: transparent;\n",
              "      border-right-color: var(--fill-color);\n",
              "      border-bottom-color: var(--fill-color);\n",
              "    }\n",
              "    90% {\n",
              "      border-color: transparent;\n",
              "      border-bottom-color: var(--fill-color);\n",
              "    }\n",
              "  }\n",
              "</style>\n",
              "\n",
              "  <script>\n",
              "    async function quickchart(key) {\n",
              "      const quickchartButtonEl =\n",
              "        document.querySelector('#' + key + ' button');\n",
              "      quickchartButtonEl.disabled = true;  // To prevent multiple clicks.\n",
              "      quickchartButtonEl.classList.add('colab-df-spinner');\n",
              "      try {\n",
              "        const charts = await google.colab.kernel.invokeFunction(\n",
              "            'suggestCharts', [key], {});\n",
              "      } catch (error) {\n",
              "        console.error('Error during call to suggestCharts:', error);\n",
              "      }\n",
              "      quickchartButtonEl.classList.remove('colab-df-spinner');\n",
              "      quickchartButtonEl.classList.add('colab-df-quickchart-complete');\n",
              "    }\n",
              "    (() => {\n",
              "      let quickchartButtonEl =\n",
              "        document.querySelector('#df-3e97aa3b-befc-4249-9211-0fae4b683390 button');\n",
              "      quickchartButtonEl.style.display =\n",
              "        google.colab.kernel.accessAllowed ? 'block' : 'none';\n",
              "    })();\n",
              "  </script>\n",
              "</div>\n",
              "    </div>\n",
              "  </div>\n"
            ]
          },
          "metadata": {},
          "execution_count": 11
        }
      ]
    },
    {
      "cell_type": "code",
      "source": [
        "train = df.iloc[:, 1:6].values\n",
        "train[-5:]"
      ],
      "metadata": {
        "id": "DrzsMQJ7xnth",
        "colab": {
          "base_uri": "https://localhost:8080/"
        },
        "outputId": "3e1a385c-c168-4e23-90a0-cac27b0eca1f"
      },
      "execution_count": null,
      "outputs": [
        {
          "output_type": "execute_result",
          "data": {
            "text/plain": [
              "array([[3.75999999e+00, 3.79999995e+00, 2.24000000e+04, 3.99000001e+00,\n",
              "        3.80999994e+00],\n",
              "       [3.68000007e+00, 3.75000000e+00, 1.80000000e+04, 3.84999990e+00,\n",
              "        3.74000001e+00],\n",
              "       [3.79999995e+00, 3.81999993e+00, 5.16000000e+04, 4.00000000e+00,\n",
              "        3.84999990e+00],\n",
              "       [3.84999990e+00, 3.93000007e+00, 7.80000000e+03, 3.93000007e+00,\n",
              "        3.88000011e+00],\n",
              "       [3.84999990e+00, 3.87400007e+00, 1.14890000e+04, 3.88000011e+00,\n",
              "        3.84999990e+00]])"
            ]
          },
          "metadata": {},
          "execution_count": 12
        }
      ]
    },
    {
      "cell_type": "markdown",
      "source": [
        "# Eksperimen 1"
      ],
      "metadata": {
        "id": "xtIH_njRSx5G"
      }
    },
    {
      "cell_type": "code",
      "source": [
        "window1 = 5\n",
        "X_train, y_train = create_sequences(train, window1)"
      ],
      "metadata": {
        "id": "bz1w8jGo0o6X"
      },
      "execution_count": null,
      "outputs": []
    },
    {
      "cell_type": "code",
      "source": [
        "feature = 5\n",
        "model1 = Sequential()\n",
        "model1.add(LSTM(64, (window1, feature)))\n",
        "model1.add(Dense(feature))\n",
        "model1.summary()"
      ],
      "metadata": {
        "id": "H4P2zV4C1jxc",
        "colab": {
          "base_uri": "https://localhost:8080/"
        },
        "outputId": "1bfdcd04-3e28-49c0-d2ae-1299916a6e2d"
      },
      "execution_count": null,
      "outputs": [
        {
          "output_type": "stream",
          "name": "stdout",
          "text": [
            "Layer 1: LSTM | Parameters: 17920\n",
            "Layer 2: Dense | Parameters: 325\n",
            "Total trainable parameters: 18245\n"
          ]
        }
      ]
    },
    {
      "cell_type": "code",
      "source": [
        "p1 = model1.predict([X_train[0]])\n",
        "p1"
      ],
      "metadata": {
        "id": "OvlWTWweGZ7E",
        "colab": {
          "base_uri": "https://localhost:8080/"
        },
        "outputId": "341f7f31-a632-4b1a-ba2c-4e0285451a83"
      },
      "execution_count": null,
      "outputs": [
        {
          "output_type": "stream",
          "name": "stdout",
          "text": [
            "(5, 5) (5, 5)\n"
          ]
        },
        {
          "output_type": "execute_result",
          "data": {
            "text/plain": [
              "array([[ -0.31307088,  10.25746838, -17.04644608,  -3.49218779,\n",
              "          1.91838143]])"
            ]
          },
          "metadata": {},
          "execution_count": 15
        }
      ]
    },
    {
      "cell_type": "code",
      "source": [
        "y_train[0]"
      ],
      "metadata": {
        "id": "wcdB56EMHdX3",
        "colab": {
          "base_uri": "https://localhost:8080/"
        },
        "outputId": "96ffdb86-48bf-4ca4-e4b1-2b8fda6aa908"
      },
      "execution_count": null,
      "outputs": [
        {
          "output_type": "execute_result",
          "data": {
            "text/plain": [
              "array([   5.  ,    5.  , 3300.  ,    5.5 ,    5.25])"
            ]
          },
          "metadata": {},
          "execution_count": 16
        }
      ]
    },
    {
      "cell_type": "code",
      "source": [
        "diff = p1 - y_train[0]\n",
        "print(\"RMSE: \", np.sqrt(np.mean(diff**2)))"
      ],
      "metadata": {
        "id": "v2_x1J2zxwG1",
        "colab": {
          "base_uri": "https://localhost:8080/"
        },
        "outputId": "81674cab-e773-4a74-f4a2-ea13666713d8"
      },
      "execution_count": null,
      "outputs": [
        {
          "output_type": "stream",
          "name": "stdout",
          "text": [
            "RMSE:  1483.4382329086648\n"
          ]
        }
      ]
    },
    {
      "cell_type": "markdown",
      "source": [
        "# Eksperimen 2"
      ],
      "metadata": {
        "id": "Rwnqhu6aTOqR"
      }
    },
    {
      "cell_type": "code",
      "source": [
        "window2 = 10\n",
        "X_train, y_train = create_sequences(train, window2)"
      ],
      "metadata": {
        "id": "RlBfsn8qBPEh"
      },
      "execution_count": null,
      "outputs": []
    },
    {
      "cell_type": "code",
      "source": [
        "model2 = Sequential()\n",
        "model2.add(LSTM(64, (window2, feature)))\n",
        "model2.add(Dense(feature))\n",
        "model2.summary()"
      ],
      "metadata": {
        "id": "WNQ8uPctBQeH",
        "colab": {
          "base_uri": "https://localhost:8080/"
        },
        "outputId": "635276ee-7892-4ecf-d97b-5096040f71bf"
      },
      "execution_count": null,
      "outputs": [
        {
          "output_type": "stream",
          "name": "stdout",
          "text": [
            "Layer 1: LSTM | Parameters: 17920\n",
            "Layer 2: Dense | Parameters: 325\n",
            "Total trainable parameters: 18245\n"
          ]
        }
      ]
    },
    {
      "cell_type": "code",
      "source": [
        "p2 = model2.predict([X_train[0]])\n",
        "p2"
      ],
      "metadata": {
        "id": "yji1fSzgJRh4",
        "colab": {
          "base_uri": "https://localhost:8080/"
        },
        "outputId": "ee0304c7-d335-4a06-a183-45abce40785f"
      },
      "execution_count": null,
      "outputs": [
        {
          "output_type": "stream",
          "name": "stdout",
          "text": [
            "(10, 5) (10, 5)\n"
          ]
        },
        {
          "output_type": "execute_result",
          "data": {
            "text/plain": [
              "array([[  2.42122339, -12.32536184,   3.93004456,   2.56716003,\n",
              "          0.48825142]])"
            ]
          },
          "metadata": {},
          "execution_count": 20
        }
      ]
    },
    {
      "cell_type": "code",
      "source": [
        "y_train[0]"
      ],
      "metadata": {
        "id": "JN1x9wkMJ6cU",
        "colab": {
          "base_uri": "https://localhost:8080/"
        },
        "outputId": "4820316b-d655-40f5-fb08-0064f39b5511"
      },
      "execution_count": null,
      "outputs": [
        {
          "output_type": "execute_result",
          "data": {
            "text/plain": [
              "array([   5.25,    5.25, 3600.  ,    5.5 ,    5.5 ])"
            ]
          },
          "metadata": {},
          "execution_count": 21
        }
      ]
    },
    {
      "cell_type": "code",
      "source": [
        "diff = p2 - y_train[0]\n",
        "print(\"RMSE: \", np.sqrt(np.mean(diff**2)))"
      ],
      "metadata": {
        "id": "HSkpIeATx9dc",
        "colab": {
          "base_uri": "https://localhost:8080/"
        },
        "outputId": "afe7f2ad-a343-4fe4-98a0-4289963b49cb"
      },
      "execution_count": null,
      "outputs": [
        {
          "output_type": "stream",
          "name": "stdout",
          "text": [
            "RMSE:  1608.2331758122625\n"
          ]
        }
      ]
    },
    {
      "cell_type": "markdown",
      "source": [
        "# Eksperimen 3"
      ],
      "metadata": {
        "id": "b4K6-jqzTQej"
      }
    },
    {
      "cell_type": "code",
      "source": [
        "window3 = 15\n",
        "X_train, y_train = create_sequences(train, window3)"
      ],
      "metadata": {
        "id": "iPGiZTbJCmOM"
      },
      "execution_count": null,
      "outputs": []
    },
    {
      "cell_type": "code",
      "source": [
        "model3 = Sequential()\n",
        "model3.add(LSTM(64, (window3, feature)))\n",
        "model3.add(Dense(feature))\n",
        "model3.summary()"
      ],
      "metadata": {
        "id": "sxiibLjXCo65",
        "colab": {
          "base_uri": "https://localhost:8080/"
        },
        "outputId": "5beee177-3ecb-4013-dabb-e068d5124a16"
      },
      "execution_count": null,
      "outputs": [
        {
          "output_type": "stream",
          "name": "stdout",
          "text": [
            "Layer 1: LSTM | Parameters: 17920\n",
            "Layer 2: Dense | Parameters: 325\n",
            "Total trainable parameters: 18245\n"
          ]
        }
      ]
    },
    {
      "cell_type": "code",
      "source": [
        "p3 = model3.predict([X_train[0]])\n",
        "p3"
      ],
      "metadata": {
        "id": "1k9U77FBJYx9",
        "colab": {
          "base_uri": "https://localhost:8080/"
        },
        "outputId": "097886e0-a9e0-4f4a-c544-82494b519fb7"
      },
      "execution_count": null,
      "outputs": [
        {
          "output_type": "stream",
          "name": "stdout",
          "text": [
            "(15, 5) (15, 5)\n"
          ]
        },
        {
          "output_type": "execute_result",
          "data": {
            "text/plain": [
              "array([[14.10381655,  8.43248587, -0.76783334,  5.11268024, -4.39915483]])"
            ]
          },
          "metadata": {},
          "execution_count": 25
        }
      ]
    },
    {
      "cell_type": "code",
      "source": [
        "y_train[0]"
      ],
      "metadata": {
        "id": "gEhbsIBfJ7qj",
        "colab": {
          "base_uri": "https://localhost:8080/"
        },
        "outputId": "9bc55c0b-487a-4f67-a062-c6c7dc3ca073"
      },
      "execution_count": null,
      "outputs": [
        {
          "output_type": "execute_result",
          "data": {
            "text/plain": [
              "array([6.00e+00, 6.25e+00, 1.78e+04, 6.50e+00, 6.25e+00])"
            ]
          },
          "metadata": {},
          "execution_count": 26
        }
      ]
    },
    {
      "cell_type": "code",
      "source": [
        "diff = p3 - y_train[0]\n",
        "print(\"RMSE: \", np.sqrt(np.mean(diff**2)))"
      ],
      "metadata": {
        "id": "SqGHJ-rFyALo",
        "colab": {
          "base_uri": "https://localhost:8080/"
        },
        "outputId": "6b2122cd-c45c-437d-8f4f-eabecdb4341b"
      },
      "execution_count": null,
      "outputs": [
        {
          "output_type": "stream",
          "name": "stdout",
          "text": [
            "RMSE:  7960.747718909785\n"
          ]
        }
      ]
    },
    {
      "cell_type": "markdown",
      "source": [
        "# Eksperimen menggunakan Model Contoh"
      ],
      "metadata": {
        "id": "LLbNEkStMFH9"
      }
    },
    {
      "cell_type": "code",
      "source": [
        "model = Sequential().loadAsisten(\"model_4_parameters.json\", 15)\n",
        "model.summary()"
      ],
      "metadata": {
        "colab": {
          "base_uri": "https://localhost:8080/"
        },
        "id": "ZZERTJDSJd0W",
        "outputId": "5084e889-d372-4777-9f28-6e6579a72169"
      },
      "execution_count": null,
      "outputs": [
        {
          "output_type": "stream",
          "name": "stdout",
          "text": [
            "Layer 1: LSTM | Parameters: 17920\n",
            "Layer 2: Dense | Parameters: 325\n",
            "Total trainable parameters: 18245\n"
          ]
        }
      ]
    },
    {
      "cell_type": "code",
      "source": [
        "pred = model.predict([X_train[0]])\n",
        "pred"
      ],
      "metadata": {
        "colab": {
          "base_uri": "https://localhost:8080/"
        },
        "id": "wt7PbwoMLJIR",
        "outputId": "a154d6ca-12dd-49fc-a74c-42599c487b4f"
      },
      "execution_count": null,
      "outputs": [
        {
          "output_type": "stream",
          "name": "stdout",
          "text": [
            "(15, 5) (15, 5)\n"
          ]
        },
        {
          "output_type": "stream",
          "name": "stderr",
          "text": [
            "<ipython-input-2-43ecad2c5645>:9: RuntimeWarning: overflow encountered in exp\n",
            "  return 1 / (1 + np.exp(-x))\n"
          ]
        },
        {
          "output_type": "execute_result",
          "data": {
            "text/plain": [
              "array([[-5.47196338, -5.92281512, -8.64966928,  9.59949192,  3.77962188]])"
            ]
          },
          "metadata": {},
          "execution_count": 29
        }
      ]
    },
    {
      "cell_type": "code",
      "source": [
        "y_train[0]"
      ],
      "metadata": {
        "colab": {
          "base_uri": "https://localhost:8080/"
        },
        "id": "y5oYbOpoLjhi",
        "outputId": "0acefef0-e614-4016-d075-943dd2ea9887"
      },
      "execution_count": null,
      "outputs": [
        {
          "output_type": "execute_result",
          "data": {
            "text/plain": [
              "array([6.00e+00, 6.25e+00, 1.78e+04, 6.50e+00, 6.25e+00])"
            ]
          },
          "metadata": {},
          "execution_count": 30
        }
      ]
    },
    {
      "cell_type": "code",
      "source": [
        "diff = pred - y_train[0]\n",
        "print(\"RMSE: \", np.sqrt(np.mean(diff**2)))"
      ],
      "metadata": {
        "colab": {
          "base_uri": "https://localhost:8080/"
        },
        "id": "WexSuTeyLmq0",
        "outputId": "27eafb06-9325-4396-dd8b-aa95f8cf0143"
      },
      "execution_count": null,
      "outputs": [
        {
          "output_type": "stream",
          "name": "stdout",
          "text": [
            "RMSE:  7964.273959831288\n"
          ]
        }
      ]
    }
  ]
}